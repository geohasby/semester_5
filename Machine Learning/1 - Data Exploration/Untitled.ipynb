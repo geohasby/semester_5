{
 "cells": [
  {
   "cell_type": "code",
   "execution_count": 19,
   "id": "2575d578",
   "metadata": {},
   "outputs": [],
   "source": [
    "import pandas as pd\n",
    "import numpy as np\n",
    "import seaborn as sns\n",
    "import matplotlib.pyplot as plt\n",
    "import warnings\n",
    "warnings.filterwarnings('ignore')"
   ]
  },
  {
   "cell_type": "code",
   "execution_count": 2,
   "id": "f65d8368",
   "metadata": {},
   "outputs": [],
   "source": [
    "df = pd.read_csv('./input/european-football-database-20192020/D1.csv')"
   ]
  },
  {
   "cell_type": "code",
   "execution_count": 3,
   "id": "3c0e0ba2",
   "metadata": {},
   "outputs": [],
   "source": [
    "df = df.iloc[:,[3,4,5,6,11,12,13,14,15,16,19,20,21,22]]"
   ]
  },
  {
   "cell_type": "code",
   "execution_count": 4,
   "id": "50c1b7a6",
   "metadata": {},
   "outputs": [],
   "source": [
    "df = df.rename(columns={'FTHG': 'H_Goals', \n",
    "                       'FTAG': 'A_Goals', \n",
    "                       'HS': 'H_Shots', \n",
    "                       'AS': 'A_Shots',\n",
    "                       'HST': 'H_ShotsOnTarget',\n",
    "                       'AST': 'A_ShotsOnTarget',\n",
    "                       'HF': 'H_Fouls', \n",
    "                       'AF': 'A_Fouls',\n",
    "                       'HY': 'H_YellowCards',\n",
    "                       'AY': 'A_YellowCards',\n",
    "                       'HR': 'H_RedCards',\n",
    "                       'AR': 'A_RedCards'})"
   ]
  },
  {
   "cell_type": "code",
   "execution_count": 5,
   "id": "53934bd8",
   "metadata": {},
   "outputs": [
    {
     "data": {
      "text/plain": [
       "'Data has {df.shape[0]} Rows and {df.shape[1]} Columns'"
      ]
     },
     "execution_count": 5,
     "metadata": {},
     "output_type": "execute_result"
    }
   ],
   "source": [
    "\"Data has {df.shape[0]} Rows and {df.shape[1]} Columns\""
   ]
  },
  {
   "cell_type": "code",
   "execution_count": 6,
   "id": "185dee81",
   "metadata": {},
   "outputs": [
    {
     "data": {
      "text/html": [
       "<div>\n",
       "<style scoped>\n",
       "    .dataframe tbody tr th:only-of-type {\n",
       "        vertical-align: middle;\n",
       "    }\n",
       "\n",
       "    .dataframe tbody tr th {\n",
       "        vertical-align: top;\n",
       "    }\n",
       "\n",
       "    .dataframe thead th {\n",
       "        text-align: right;\n",
       "    }\n",
       "</style>\n",
       "<table border=\"1\" class=\"dataframe\">\n",
       "  <thead>\n",
       "    <tr style=\"text-align: right;\">\n",
       "      <th></th>\n",
       "      <th>HomeTeam</th>\n",
       "      <th>AwayTeam</th>\n",
       "      <th>H_Goals</th>\n",
       "      <th>A_Goals</th>\n",
       "      <th>H_Shots</th>\n",
       "      <th>A_Shots</th>\n",
       "      <th>H_ShotsOnTarget</th>\n",
       "      <th>A_ShotsOnTarget</th>\n",
       "      <th>H_Fouls</th>\n",
       "      <th>A_Fouls</th>\n",
       "      <th>H_YellowCards</th>\n",
       "      <th>A_YellowCards</th>\n",
       "      <th>H_RedCards</th>\n",
       "      <th>A_RedCards</th>\n",
       "    </tr>\n",
       "  </thead>\n",
       "  <tbody>\n",
       "    <tr>\n",
       "      <th>0</th>\n",
       "      <td>Bayern Munich</td>\n",
       "      <td>Hertha</td>\n",
       "      <td>2</td>\n",
       "      <td>2</td>\n",
       "      <td>17</td>\n",
       "      <td>6</td>\n",
       "      <td>7</td>\n",
       "      <td>3</td>\n",
       "      <td>6</td>\n",
       "      <td>17</td>\n",
       "      <td>3</td>\n",
       "      <td>3</td>\n",
       "      <td>0</td>\n",
       "      <td>0</td>\n",
       "    </tr>\n",
       "    <tr>\n",
       "      <th>1</th>\n",
       "      <td>Dortmund</td>\n",
       "      <td>Augsburg</td>\n",
       "      <td>5</td>\n",
       "      <td>1</td>\n",
       "      <td>23</td>\n",
       "      <td>5</td>\n",
       "      <td>10</td>\n",
       "      <td>1</td>\n",
       "      <td>8</td>\n",
       "      <td>6</td>\n",
       "      <td>0</td>\n",
       "      <td>0</td>\n",
       "      <td>0</td>\n",
       "      <td>0</td>\n",
       "    </tr>\n",
       "    <tr>\n",
       "      <th>2</th>\n",
       "      <td>Freiburg</td>\n",
       "      <td>Mainz</td>\n",
       "      <td>3</td>\n",
       "      <td>0</td>\n",
       "      <td>19</td>\n",
       "      <td>19</td>\n",
       "      <td>8</td>\n",
       "      <td>5</td>\n",
       "      <td>6</td>\n",
       "      <td>15</td>\n",
       "      <td>1</td>\n",
       "      <td>3</td>\n",
       "      <td>0</td>\n",
       "      <td>0</td>\n",
       "    </tr>\n",
       "    <tr>\n",
       "      <th>3</th>\n",
       "      <td>Leverkusen</td>\n",
       "      <td>Paderborn</td>\n",
       "      <td>3</td>\n",
       "      <td>2</td>\n",
       "      <td>13</td>\n",
       "      <td>11</td>\n",
       "      <td>4</td>\n",
       "      <td>6</td>\n",
       "      <td>8</td>\n",
       "      <td>9</td>\n",
       "      <td>2</td>\n",
       "      <td>0</td>\n",
       "      <td>0</td>\n",
       "      <td>0</td>\n",
       "    </tr>\n",
       "    <tr>\n",
       "      <th>4</th>\n",
       "      <td>Werder Bremen</td>\n",
       "      <td>Fortuna Dusseldorf</td>\n",
       "      <td>1</td>\n",
       "      <td>3</td>\n",
       "      <td>23</td>\n",
       "      <td>12</td>\n",
       "      <td>10</td>\n",
       "      <td>7</td>\n",
       "      <td>8</td>\n",
       "      <td>13</td>\n",
       "      <td>0</td>\n",
       "      <td>2</td>\n",
       "      <td>0</td>\n",
       "      <td>0</td>\n",
       "    </tr>\n",
       "    <tr>\n",
       "      <th>...</th>\n",
       "      <td>...</td>\n",
       "      <td>...</td>\n",
       "      <td>...</td>\n",
       "      <td>...</td>\n",
       "      <td>...</td>\n",
       "      <td>...</td>\n",
       "      <td>...</td>\n",
       "      <td>...</td>\n",
       "      <td>...</td>\n",
       "      <td>...</td>\n",
       "      <td>...</td>\n",
       "      <td>...</td>\n",
       "      <td>...</td>\n",
       "      <td>...</td>\n",
       "    </tr>\n",
       "    <tr>\n",
       "      <th>301</th>\n",
       "      <td>Leverkusen</td>\n",
       "      <td>Mainz</td>\n",
       "      <td>1</td>\n",
       "      <td>0</td>\n",
       "      <td>13</td>\n",
       "      <td>6</td>\n",
       "      <td>2</td>\n",
       "      <td>1</td>\n",
       "      <td>10</td>\n",
       "      <td>10</td>\n",
       "      <td>1</td>\n",
       "      <td>1</td>\n",
       "      <td>0</td>\n",
       "      <td>0</td>\n",
       "    </tr>\n",
       "    <tr>\n",
       "      <th>302</th>\n",
       "      <td>M'gladbach</td>\n",
       "      <td>Hertha</td>\n",
       "      <td>2</td>\n",
       "      <td>1</td>\n",
       "      <td>22</td>\n",
       "      <td>4</td>\n",
       "      <td>8</td>\n",
       "      <td>2</td>\n",
       "      <td>7</td>\n",
       "      <td>15</td>\n",
       "      <td>1</td>\n",
       "      <td>2</td>\n",
       "      <td>0</td>\n",
       "      <td>0</td>\n",
       "    </tr>\n",
       "    <tr>\n",
       "      <th>303</th>\n",
       "      <td>Union Berlin</td>\n",
       "      <td>Fortuna Dusseldorf</td>\n",
       "      <td>3</td>\n",
       "      <td>0</td>\n",
       "      <td>11</td>\n",
       "      <td>25</td>\n",
       "      <td>7</td>\n",
       "      <td>4</td>\n",
       "      <td>15</td>\n",
       "      <td>6</td>\n",
       "      <td>0</td>\n",
       "      <td>1</td>\n",
       "      <td>0</td>\n",
       "      <td>0</td>\n",
       "    </tr>\n",
       "    <tr>\n",
       "      <th>304</th>\n",
       "      <td>Werder Bremen</td>\n",
       "      <td>FC Koln</td>\n",
       "      <td>6</td>\n",
       "      <td>1</td>\n",
       "      <td>18</td>\n",
       "      <td>6</td>\n",
       "      <td>9</td>\n",
       "      <td>2</td>\n",
       "      <td>22</td>\n",
       "      <td>16</td>\n",
       "      <td>1</td>\n",
       "      <td>2</td>\n",
       "      <td>0</td>\n",
       "      <td>0</td>\n",
       "    </tr>\n",
       "    <tr>\n",
       "      <th>305</th>\n",
       "      <td>Wolfsburg</td>\n",
       "      <td>Bayern Munich</td>\n",
       "      <td>0</td>\n",
       "      <td>4</td>\n",
       "      <td>11</td>\n",
       "      <td>17</td>\n",
       "      <td>4</td>\n",
       "      <td>11</td>\n",
       "      <td>13</td>\n",
       "      <td>9</td>\n",
       "      <td>3</td>\n",
       "      <td>0</td>\n",
       "      <td>1</td>\n",
       "      <td>0</td>\n",
       "    </tr>\n",
       "  </tbody>\n",
       "</table>\n",
       "<p>306 rows × 14 columns</p>\n",
       "</div>"
      ],
      "text/plain": [
       "          HomeTeam            AwayTeam  H_Goals  A_Goals  H_Shots  A_Shots  \\\n",
       "0    Bayern Munich              Hertha        2        2       17        6   \n",
       "1         Dortmund            Augsburg        5        1       23        5   \n",
       "2         Freiburg               Mainz        3        0       19       19   \n",
       "3       Leverkusen           Paderborn        3        2       13       11   \n",
       "4    Werder Bremen  Fortuna Dusseldorf        1        3       23       12   \n",
       "..             ...                 ...      ...      ...      ...      ...   \n",
       "301     Leverkusen               Mainz        1        0       13        6   \n",
       "302     M'gladbach              Hertha        2        1       22        4   \n",
       "303   Union Berlin  Fortuna Dusseldorf        3        0       11       25   \n",
       "304  Werder Bremen             FC Koln        6        1       18        6   \n",
       "305      Wolfsburg       Bayern Munich        0        4       11       17   \n",
       "\n",
       "     H_ShotsOnTarget  A_ShotsOnTarget  H_Fouls  A_Fouls  H_YellowCards  \\\n",
       "0                  7                3        6       17              3   \n",
       "1                 10                1        8        6              0   \n",
       "2                  8                5        6       15              1   \n",
       "3                  4                6        8        9              2   \n",
       "4                 10                7        8       13              0   \n",
       "..               ...              ...      ...      ...            ...   \n",
       "301                2                1       10       10              1   \n",
       "302                8                2        7       15              1   \n",
       "303                7                4       15        6              0   \n",
       "304                9                2       22       16              1   \n",
       "305                4               11       13        9              3   \n",
       "\n",
       "     A_YellowCards  H_RedCards  A_RedCards  \n",
       "0                3           0           0  \n",
       "1                0           0           0  \n",
       "2                3           0           0  \n",
       "3                0           0           0  \n",
       "4                2           0           0  \n",
       "..             ...         ...         ...  \n",
       "301              1           0           0  \n",
       "302              2           0           0  \n",
       "303              1           0           0  \n",
       "304              2           0           0  \n",
       "305              0           1           0  \n",
       "\n",
       "[306 rows x 14 columns]"
      ]
     },
     "execution_count": 6,
     "metadata": {},
     "output_type": "execute_result"
    }
   ],
   "source": [
    "df"
   ]
  },
  {
   "cell_type": "code",
   "execution_count": 7,
   "id": "39cedd91",
   "metadata": {},
   "outputs": [
    {
     "data": {
      "text/plain": [
       "1.6601307189542485"
      ]
     },
     "execution_count": 7,
     "metadata": {},
     "output_type": "execute_result"
    }
   ],
   "source": [
    "meanHomeTeamGoals = df['H_Goals'].mean()\n",
    "meanHomeTeamGoals"
   ]
  },
  {
   "cell_type": "code",
   "execution_count": 8,
   "id": "22e744ab",
   "metadata": {},
   "outputs": [
    {
     "data": {
      "text/plain": [
       "1.0"
      ]
     },
     "execution_count": 8,
     "metadata": {},
     "output_type": "execute_result"
    }
   ],
   "source": [
    "medianHomeTeamGoals = df['H_Goals'].median()\n",
    "medianHomeTeamGoals"
   ]
  },
  {
   "cell_type": "code",
   "execution_count": 9,
   "id": "ded6f69f",
   "metadata": {},
   "outputs": [
    {
     "data": {
      "text/plain": [
       "0    1\n",
       "dtype: int64"
      ]
     },
     "execution_count": 9,
     "metadata": {},
     "output_type": "execute_result"
    }
   ],
   "source": [
    "modusHomeTeamGoals = df['H_Goals'].mode()\n",
    "modusHomeTeamGoals"
   ]
  },
  {
   "cell_type": "code",
   "execution_count": 10,
   "id": "428b24db",
   "metadata": {},
   "outputs": [
    {
     "data": {
      "text/plain": [
       "<AxesSubplot:title={'center':'Distribution of Home Team Fouls'}, xlabel='Home Team Fouls', ylabel='Frequency'>"
      ]
     },
     "execution_count": 10,
     "metadata": {},
     "output_type": "execute_result"
    },
    {
     "data": {
      "image/png": "[encoded data removed]",
      "text/plain": [
       "<Figure size 432x288 with 1 Axes>"
      ]
     },
     "metadata": {
      "needs_background": "light"
     },
     "output_type": "display_data"
    }
   ],
   "source": [
    "plt.xlabel('Home Team Fouls')\n",
    "plt.ylabel('Frequency')\n",
    "plt.title('Distribution of Home Team Fouls')\n",
    "sns.histplot(data=df, x='H_Fouls', discrete=True, kde=True)"
   ]
  },
  {
   "cell_type": "code",
   "execution_count": 11,
   "id": "7464bd6b",
   "metadata": {
    "scrolled": true
   },
   "outputs": [
    {
     "data": {
      "text/html": [
       "<div>\n",
       "<style scoped>\n",
       "    .dataframe tbody tr th:only-of-type {\n",
       "        vertical-align: middle;\n",
       "    }\n",
       "\n",
       "    .dataframe tbody tr th {\n",
       "        vertical-align: top;\n",
       "    }\n",
       "\n",
       "    .dataframe thead th {\n",
       "        text-align: right;\n",
       "    }\n",
       "</style>\n",
       "<table border=\"1\" class=\"dataframe\">\n",
       "  <thead>\n",
       "    <tr style=\"text-align: right;\">\n",
       "      <th></th>\n",
       "      <th>H_Goals</th>\n",
       "      <th>A_Goals</th>\n",
       "      <th>H_Shots</th>\n",
       "      <th>A_Shots</th>\n",
       "      <th>H_ShotsOnTarget</th>\n",
       "      <th>A_ShotsOnTarget</th>\n",
       "      <th>H_Fouls</th>\n",
       "      <th>A_Fouls</th>\n",
       "      <th>H_YellowCards</th>\n",
       "      <th>A_YellowCards</th>\n",
       "      <th>H_RedCards</th>\n",
       "      <th>A_RedCards</th>\n",
       "    </tr>\n",
       "  </thead>\n",
       "  <tbody>\n",
       "    <tr>\n",
       "      <th>H_Goals</th>\n",
       "      <td>1.000000</td>\n",
       "      <td>-0.296893</td>\n",
       "      <td>0.294255</td>\n",
       "      <td>-0.150307</td>\n",
       "      <td>0.585205</td>\n",
       "      <td>-0.228264</td>\n",
       "      <td>-0.087996</td>\n",
       "      <td>-0.146342</td>\n",
       "      <td>-0.187743</td>\n",
       "      <td>-0.086518</td>\n",
       "      <td>-0.087285</td>\n",
       "      <td>-0.014589</td>\n",
       "    </tr>\n",
       "    <tr>\n",
       "      <th>A_Goals</th>\n",
       "      <td>-0.296893</td>\n",
       "      <td>1.000000</td>\n",
       "      <td>-0.154275</td>\n",
       "      <td>0.286686</td>\n",
       "      <td>-0.222783</td>\n",
       "      <td>0.623856</td>\n",
       "      <td>0.030251</td>\n",
       "      <td>-0.129300</td>\n",
       "      <td>0.134272</td>\n",
       "      <td>-0.048628</td>\n",
       "      <td>0.087862</td>\n",
       "      <td>-0.079848</td>\n",
       "    </tr>\n",
       "    <tr>\n",
       "      <th>H_Shots</th>\n",
       "      <td>0.294255</td>\n",
       "      <td>-0.154275</td>\n",
       "      <td>1.000000</td>\n",
       "      <td>-0.268605</td>\n",
       "      <td>0.672900</td>\n",
       "      <td>-0.215892</td>\n",
       "      <td>0.017339</td>\n",
       "      <td>0.024451</td>\n",
       "      <td>-0.075879</td>\n",
       "      <td>0.053280</td>\n",
       "      <td>-0.172665</td>\n",
       "      <td>0.067650</td>\n",
       "    </tr>\n",
       "    <tr>\n",
       "      <th>A_Shots</th>\n",
       "      <td>-0.150307</td>\n",
       "      <td>0.286686</td>\n",
       "      <td>-0.268605</td>\n",
       "      <td>1.000000</td>\n",
       "      <td>-0.150582</td>\n",
       "      <td>0.644446</td>\n",
       "      <td>0.087605</td>\n",
       "      <td>-0.133688</td>\n",
       "      <td>0.147420</td>\n",
       "      <td>0.013432</td>\n",
       "      <td>0.103755</td>\n",
       "      <td>-0.027191</td>\n",
       "    </tr>\n",
       "    <tr>\n",
       "      <th>H_ShotsOnTarget</th>\n",
       "      <td>0.585205</td>\n",
       "      <td>-0.222783</td>\n",
       "      <td>0.672900</td>\n",
       "      <td>-0.150582</td>\n",
       "      <td>1.000000</td>\n",
       "      <td>-0.178495</td>\n",
       "      <td>-0.022031</td>\n",
       "      <td>-0.070804</td>\n",
       "      <td>-0.111126</td>\n",
       "      <td>0.004129</td>\n",
       "      <td>-0.072996</td>\n",
       "      <td>0.038852</td>\n",
       "    </tr>\n",
       "    <tr>\n",
       "      <th>A_ShotsOnTarget</th>\n",
       "      <td>-0.228264</td>\n",
       "      <td>0.623856</td>\n",
       "      <td>-0.215892</td>\n",
       "      <td>0.644446</td>\n",
       "      <td>-0.178495</td>\n",
       "      <td>1.000000</td>\n",
       "      <td>0.049570</td>\n",
       "      <td>-0.128875</td>\n",
       "      <td>0.175491</td>\n",
       "      <td>0.024910</td>\n",
       "      <td>0.102649</td>\n",
       "      <td>-0.031891</td>\n",
       "    </tr>\n",
       "    <tr>\n",
       "      <th>H_Fouls</th>\n",
       "      <td>-0.087996</td>\n",
       "      <td>0.030251</td>\n",
       "      <td>0.017339</td>\n",
       "      <td>0.087605</td>\n",
       "      <td>-0.022031</td>\n",
       "      <td>0.049570</td>\n",
       "      <td>1.000000</td>\n",
       "      <td>0.189448</td>\n",
       "      <td>0.405110</td>\n",
       "      <td>0.071840</td>\n",
       "      <td>0.149324</td>\n",
       "      <td>0.026531</td>\n",
       "    </tr>\n",
       "    <tr>\n",
       "      <th>A_Fouls</th>\n",
       "      <td>-0.146342</td>\n",
       "      <td>-0.129300</td>\n",
       "      <td>0.024451</td>\n",
       "      <td>-0.133688</td>\n",
       "      <td>-0.070804</td>\n",
       "      <td>-0.128875</td>\n",
       "      <td>0.189448</td>\n",
       "      <td>1.000000</td>\n",
       "      <td>0.145198</td>\n",
       "      <td>0.413287</td>\n",
       "      <td>0.045658</td>\n",
       "      <td>0.124917</td>\n",
       "    </tr>\n",
       "    <tr>\n",
       "      <th>H_YellowCards</th>\n",
       "      <td>-0.187743</td>\n",
       "      <td>0.134272</td>\n",
       "      <td>-0.075879</td>\n",
       "      <td>0.147420</td>\n",
       "      <td>-0.111126</td>\n",
       "      <td>0.175491</td>\n",
       "      <td>0.405110</td>\n",
       "      <td>0.145198</td>\n",
       "      <td>1.000000</td>\n",
       "      <td>0.261465</td>\n",
       "      <td>0.224325</td>\n",
       "      <td>0.113152</td>\n",
       "    </tr>\n",
       "    <tr>\n",
       "      <th>A_YellowCards</th>\n",
       "      <td>-0.086518</td>\n",
       "      <td>-0.048628</td>\n",
       "      <td>0.053280</td>\n",
       "      <td>0.013432</td>\n",
       "      <td>0.004129</td>\n",
       "      <td>0.024910</td>\n",
       "      <td>0.071840</td>\n",
       "      <td>0.413287</td>\n",
       "      <td>0.261465</td>\n",
       "      <td>1.000000</td>\n",
       "      <td>0.015075</td>\n",
       "      <td>0.280844</td>\n",
       "    </tr>\n",
       "    <tr>\n",
       "      <th>H_RedCards</th>\n",
       "      <td>-0.087285</td>\n",
       "      <td>0.087862</td>\n",
       "      <td>-0.172665</td>\n",
       "      <td>0.103755</td>\n",
       "      <td>-0.072996</td>\n",
       "      <td>0.102649</td>\n",
       "      <td>0.149324</td>\n",
       "      <td>0.045658</td>\n",
       "      <td>0.224325</td>\n",
       "      <td>0.015075</td>\n",
       "      <td>1.000000</td>\n",
       "      <td>0.106049</td>\n",
       "    </tr>\n",
       "    <tr>\n",
       "      <th>A_RedCards</th>\n",
       "      <td>-0.014589</td>\n",
       "      <td>-0.079848</td>\n",
       "      <td>0.067650</td>\n",
       "      <td>-0.027191</td>\n",
       "      <td>0.038852</td>\n",
       "      <td>-0.031891</td>\n",
       "      <td>0.026531</td>\n",
       "      <td>0.124917</td>\n",
       "      <td>0.113152</td>\n",
       "      <td>0.280844</td>\n",
       "      <td>0.106049</td>\n",
       "      <td>1.000000</td>\n",
       "    </tr>\n",
       "  </tbody>\n",
       "</table>\n",
       "</div>"
      ],
      "text/plain": [
       "                  H_Goals   A_Goals   H_Shots   A_Shots  H_ShotsOnTarget  \\\n",
       "H_Goals          1.000000 -0.296893  0.294255 -0.150307         0.585205   \n",
       "A_Goals         -0.296893  1.000000 -0.154275  0.286686        -0.222783   \n",
       "H_Shots          0.294255 -0.154275  1.000000 -0.268605         0.672900   \n",
       "A_Shots         -0.150307  0.286686 -0.268605  1.000000        -0.150582   \n",
       "H_ShotsOnTarget  0.585205 -0.222783  0.672900 -0.150582         1.000000   \n",
       "A_ShotsOnTarget -0.228264  0.623856 -0.215892  0.644446        -0.178495   \n",
       "H_Fouls         -0.087996  0.030251  0.017339  0.087605        -0.022031   \n",
       "A_Fouls         -0.146342 -0.129300  0.024451 -0.133688        -0.070804   \n",
       "H_YellowCards   -0.187743  0.134272 -0.075879  0.147420        -0.111126   \n",
       "A_YellowCards   -0.086518 -0.048628  0.053280  0.013432         0.004129   \n",
       "H_RedCards      -0.087285  0.087862 -0.172665  0.103755        -0.072996   \n",
       "A_RedCards      -0.014589 -0.079848  0.067650 -0.027191         0.038852   \n",
       "\n",
       "                 A_ShotsOnTarget   H_Fouls   A_Fouls  H_YellowCards  \\\n",
       "H_Goals                -0.228264 -0.087996 -0.146342      -0.187743   \n",
       "A_Goals                 0.623856  0.030251 -0.129300       0.134272   \n",
       "H_Shots                -0.215892  0.017339  0.024451      -0.075879   \n",
       "A_Shots                 0.644446  0.087605 -0.133688       0.147420   \n",
       "H_ShotsOnTarget        -0.178495 -0.022031 -0.070804      -0.111126   \n",
       "A_ShotsOnTarget         1.000000  0.049570 -0.128875       0.175491   \n",
       "H_Fouls                 0.049570  1.000000  0.189448       0.405110   \n",
       "A_Fouls                -0.128875  0.189448  1.000000       0.145198   \n",
       "H_YellowCards           0.175491  0.405110  0.145198       1.000000   \n",
       "A_YellowCards           0.024910  0.071840  0.413287       0.261465   \n",
       "H_RedCards              0.102649  0.149324  0.045658       0.224325   \n",
       "A_RedCards             -0.031891  0.026531  0.124917       0.113152   \n",
       "\n",
       "                 A_YellowCards  H_RedCards  A_RedCards  \n",
       "H_Goals              -0.086518   -0.087285   -0.014589  \n",
       "A_Goals              -0.048628    0.087862   -0.079848  \n",
       "H_Shots               0.053280   -0.172665    0.067650  \n",
       "A_Shots               0.013432    0.103755   -0.027191  \n",
       "H_ShotsOnTarget       0.004129   -0.072996    0.038852  \n",
       "A_ShotsOnTarget       0.024910    0.102649   -0.031891  \n",
       "H_Fouls               0.071840    0.149324    0.026531  \n",
       "A_Fouls               0.413287    0.045658    0.124917  \n",
       "H_YellowCards         0.261465    0.224325    0.113152  \n",
       "A_YellowCards         1.000000    0.015075    0.280844  \n",
       "H_RedCards            0.015075    1.000000    0.106049  \n",
       "A_RedCards            0.280844    0.106049    1.000000  "
      ]
     },
     "execution_count": 11,
     "metadata": {},
     "output_type": "execute_result"
    }
   ],
   "source": [
    "df.corr(method ='pearson')"
   ]
  },
  {
   "cell_type": "code",
   "execution_count": 12,
   "id": "48c34c4a",
   "metadata": {},
   "outputs": [
    {
     "data": {
      "text/plain": [
       "0.5852050343208711"
      ]
     },
     "execution_count": 12,
     "metadata": {},
     "output_type": "execute_result"
    }
   ],
   "source": [
    "df['H_Goals'].corr(df['H_ShotsOnTarget'])"
   ]
  },
  {
   "cell_type": "code",
   "execution_count": 31,
   "id": "c23fe622",
   "metadata": {},
   "outputs": [
    {
     "data": {
      "text/plain": [
       "([<matplotlib.axis.YTick at 0x15992b0>,\n",
       "  <matplotlib.axis.YTick at 0x1599790>,\n",
       "  <matplotlib.axis.YTick at 0x15ef810>,\n",
       "  <matplotlib.axis.YTick at 0x15b3850>,\n",
       "  <matplotlib.axis.YTick at 0x15b3410>,\n",
       "  <matplotlib.axis.YTick at 0x150d630>,\n",
       "  <matplotlib.axis.YTick at 0x15707b0>,\n",
       "  <matplotlib.axis.YTick at 0x1570330>,\n",
       "  <matplotlib.axis.YTick at 0x1570c90>,\n",
       "  <matplotlib.axis.YTick at 0x1570070>,\n",
       "  <matplotlib.axis.YTick at 0x15b3510>,\n",
       "  <matplotlib.axis.YTick at 0x1570f50>,\n",
       "  <matplotlib.axis.YTick at 0x1556370>,\n",
       "  <matplotlib.axis.YTick at 0x15a9c90>,\n",
       "  <matplotlib.axis.YTick at 0x15a9870>,\n",
       "  <matplotlib.axis.YTick at 0x15a9950>,\n",
       "  <matplotlib.axis.YTick at 0x15a9250>],\n",
       " [Text(0, 0, ''),\n",
       "  Text(0, 0, ''),\n",
       "  Text(0, 0, ''),\n",
       "  Text(0, 0, ''),\n",
       "  Text(0, 0, ''),\n",
       "  Text(0, 0, ''),\n",
       "  Text(0, 0, ''),\n",
       "  Text(0, 0, ''),\n",
       "  Text(0, 0, ''),\n",
       "  Text(0, 0, ''),\n",
       "  Text(0, 0, ''),\n",
       "  Text(0, 0, ''),\n",
       "  Text(0, 0, ''),\n",
       "  Text(0, 0, ''),\n",
       "  Text(0, 0, ''),\n",
       "  Text(0, 0, ''),\n",
       "  Text(0, 0, '')])"
      ]
     },
     "execution_count": 31,
     "metadata": {},
     "output_type": "execute_result"
    },
    {
     "data": {
      "image/png": "[encoded data removed]",
      "text/plain": [
       "<Figure size 432x288 with 1 Axes>"
      ]
     },
     "metadata": {
      "needs_background": "light"
     },
     "output_type": "display_data"
    }
   ],
   "source": [
    "sns.regplot(x = 'H_Goals', y = 'H_ShotsOnTarget', data = df)\n",
    "plt.yticks(np.arange(min(df['H_ShotsOnTarget']), max(df['H_ShotsOnTarget'])+1, 1))"
   ]
  },
  {
   "cell_type": "code",
   "execution_count": 26,
   "id": "abbc568b",
   "metadata": {},
   "outputs": [
    {
     "data": {
      "text/plain": [
       "0.4051097249267366"
      ]
     },
     "execution_count": 26,
     "metadata": {},
     "output_type": "execute_result"
    }
   ],
   "source": [
    "df['H_Fouls'].corr(df['H_YellowCards'])"
   ]
  },
  {
   "cell_type": "code",
   "execution_count": 30,
   "id": "703aa8ef",
   "metadata": {},
   "outputs": [
    {
     "data": {
      "text/plain": [
       "<AxesSubplot:xlabel='H_Fouls', ylabel='H_YellowCards'>"
      ]
     },
     "execution_count": 30,
     "metadata": {},
     "output_type": "execute_result"
    },
    {
     "data": {
      "image/png": "[encoded data removed]",
      "text/plain": [
       "<Figure size 432x288 with 1 Axes>"
      ]
     },
     "metadata": {
      "needs_background": "light"
     },
     "output_type": "display_data"
    }
   ],
   "source": [
    "sns.regplot(x = 'H_Fouls', y = 'H_YellowCards', data = df)"
   ]
  },
  {
   "cell_type": "code",
   "execution_count": 24,
   "id": "b568153c",
   "metadata": {},
   "outputs": [
    {
     "data": {
      "text/plain": [
       "0.6444461782207968"
      ]
     },
     "execution_count": 24,
     "metadata": {},
     "output_type": "execute_result"
    }
   ],
   "source": [
    "df['A_Shots'].corr(df['A_ShotsOnTarget'])"
   ]
  },
  {
   "cell_type": "code",
   "execution_count": 25,
   "id": "ac8775e9",
   "metadata": {},
   "outputs": [
    {
     "data": {
      "text/plain": [
       "<AxesSubplot:xlabel='A_Shots', ylabel='A_ShotsOnTarget'>"
      ]
     },
     "execution_count": 25,
     "metadata": {},
     "output_type": "execute_result"
    },
    {
     "data": {
      "image/png": "[encoded data removed]",
      "text/plain": [
       "<Figure size 432x288 with 1 Axes>"
      ]
     },
     "metadata": {
      "needs_background": "light"
     },
     "output_type": "display_data"
    }
   ],
   "source": [
    "sns.regplot(x = 'A_Shots', y = 'A_ShotsOnTarget', data = df)"
   ]
  }
 ],
 "metadata": {
  "interpreter": {
   "hash": "db937b350bbb26f01204900adee5b74b3d5a0c0e0872519e015f1f999c322d4d"
  },
  "kernelspec": {
   "display_name": "Python 3 (ipykernel)",
   "language": "python",
   "name": "python3"
  },
  "language_info": {
   "codemirror_mode": {
    "name": "ipython",
    "version": 3
   },
   "file_extension": ".py",
   "mimetype": "text/x-python",
   "name": "python",
   "nbconvert_exporter": "python",
   "pygments_lexer": "ipython3",
   "version": "3.7.4"
  }
 },
 "nbformat": 4,
 "nbformat_minor": 5
}
