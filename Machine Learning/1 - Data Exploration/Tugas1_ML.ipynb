{
 "cells": [
  {
   "cell_type": "code",
   "execution_count": 3,
   "id": "cb9d1f87-704a-4f98-a59b-f3960eab1ae9",
   "metadata": {},
   "outputs": [],
   "source": [
    "import pandas as pd\n",
    "import matplotlib.pyplot as plt\n",
    "import seaborn as sns"
   ]
  },
  {
   "cell_type": "code",
   "execution_count": 4,
   "id": "a3fc2bb8-d6b2-4111-bb05-b836a74ec147",
   "metadata": {},
   "outputs": [
    {
     "data": {
      "text/html": [
       "<div>\n",
       "<style scoped>\n",
       "    .dataframe tbody tr th:only-of-type {\n",
       "        vertical-align: middle;\n",
       "    }\n",
       "\n",
       "    .dataframe tbody tr th {\n",
       "        vertical-align: top;\n",
       "    }\n",
       "\n",
       "    .dataframe thead th {\n",
       "        text-align: right;\n",
       "    }\n",
       "</style>\n",
       "<table border=\"1\" class=\"dataframe\">\n",
       "  <thead>\n",
       "    <tr style=\"text-align: right;\">\n",
       "      <th></th>\n",
       "      <th>name</th>\n",
       "      <th>wins</th>\n",
       "      <th>kills</th>\n",
       "      <th>kdRatio</th>\n",
       "      <th>killstreak</th>\n",
       "      <th>level</th>\n",
       "      <th>losses</th>\n",
       "      <th>prestige</th>\n",
       "      <th>hits</th>\n",
       "      <th>timePlayed</th>\n",
       "      <th>headshots</th>\n",
       "      <th>averageTime</th>\n",
       "      <th>gamesPlayed</th>\n",
       "      <th>assists</th>\n",
       "      <th>misses</th>\n",
       "      <th>xp</th>\n",
       "      <th>scorePerMinute</th>\n",
       "      <th>shots</th>\n",
       "      <th>deaths</th>\n",
       "    </tr>\n",
       "  </thead>\n",
       "  <tbody>\n",
       "    <tr>\n",
       "      <th>0</th>\n",
       "      <td>RggRt45#4697369</td>\n",
       "      <td>0</td>\n",
       "      <td>0</td>\n",
       "      <td>0.000000</td>\n",
       "      <td>0</td>\n",
       "      <td>1</td>\n",
       "      <td>0</td>\n",
       "      <td>0</td>\n",
       "      <td>0</td>\n",
       "      <td>0</td>\n",
       "      <td>0</td>\n",
       "      <td>0.0</td>\n",
       "      <td>0</td>\n",
       "      <td>0</td>\n",
       "      <td>0</td>\n",
       "      <td>0</td>\n",
       "      <td>0.0</td>\n",
       "      <td>0</td>\n",
       "      <td>0</td>\n",
       "    </tr>\n",
       "    <tr>\n",
       "      <th>1</th>\n",
       "      <td>JohniceRex#9176033</td>\n",
       "      <td>0</td>\n",
       "      <td>0</td>\n",
       "      <td>0.000000</td>\n",
       "      <td>0</td>\n",
       "      <td>1</td>\n",
       "      <td>0</td>\n",
       "      <td>110</td>\n",
       "      <td>0</td>\n",
       "      <td>7</td>\n",
       "      <td>0</td>\n",
       "      <td>7.0</td>\n",
       "      <td>0</td>\n",
       "      <td>0</td>\n",
       "      <td>0</td>\n",
       "      <td>700</td>\n",
       "      <td>0.0</td>\n",
       "      <td>0</td>\n",
       "      <td>16</td>\n",
       "    </tr>\n",
       "    <tr>\n",
       "      <th>2</th>\n",
       "      <td>bootybootykill#1892064</td>\n",
       "      <td>0</td>\n",
       "      <td>66</td>\n",
       "      <td>1.031250</td>\n",
       "      <td>0</td>\n",
       "      <td>9</td>\n",
       "      <td>0</td>\n",
       "      <td>110</td>\n",
       "      <td>0</td>\n",
       "      <td>32</td>\n",
       "      <td>16</td>\n",
       "      <td>32.0</td>\n",
       "      <td>0</td>\n",
       "      <td>1</td>\n",
       "      <td>0</td>\n",
       "      <td>48300</td>\n",
       "      <td>0.0</td>\n",
       "      <td>0</td>\n",
       "      <td>64</td>\n",
       "    </tr>\n",
       "    <tr>\n",
       "      <th>3</th>\n",
       "      <td>JNaCo#5244172</td>\n",
       "      <td>3</td>\n",
       "      <td>2</td>\n",
       "      <td>0.400000</td>\n",
       "      <td>0</td>\n",
       "      <td>1</td>\n",
       "      <td>0</td>\n",
       "      <td>0</td>\n",
       "      <td>0</td>\n",
       "      <td>3</td>\n",
       "      <td>0</td>\n",
       "      <td>3.0</td>\n",
       "      <td>0</td>\n",
       "      <td>0</td>\n",
       "      <td>0</td>\n",
       "      <td>1150</td>\n",
       "      <td>0.0</td>\n",
       "      <td>0</td>\n",
       "      <td>5</td>\n",
       "    </tr>\n",
       "    <tr>\n",
       "      <th>4</th>\n",
       "      <td>gomezyayo_007#6596687</td>\n",
       "      <td>0</td>\n",
       "      <td>2</td>\n",
       "      <td>0.200000</td>\n",
       "      <td>0</td>\n",
       "      <td>1</td>\n",
       "      <td>0</td>\n",
       "      <td>110</td>\n",
       "      <td>0</td>\n",
       "      <td>5</td>\n",
       "      <td>1</td>\n",
       "      <td>5.0</td>\n",
       "      <td>0</td>\n",
       "      <td>0</td>\n",
       "      <td>0</td>\n",
       "      <td>1000</td>\n",
       "      <td>0.0</td>\n",
       "      <td>0</td>\n",
       "      <td>10</td>\n",
       "    </tr>\n",
       "    <tr>\n",
       "      <th>...</th>\n",
       "      <td>...</td>\n",
       "      <td>...</td>\n",
       "      <td>...</td>\n",
       "      <td>...</td>\n",
       "      <td>...</td>\n",
       "      <td>...</td>\n",
       "      <td>...</td>\n",
       "      <td>...</td>\n",
       "      <td>...</td>\n",
       "      <td>...</td>\n",
       "      <td>...</td>\n",
       "      <td>...</td>\n",
       "      <td>...</td>\n",
       "      <td>...</td>\n",
       "      <td>...</td>\n",
       "      <td>...</td>\n",
       "      <td>...</td>\n",
       "      <td>...</td>\n",
       "      <td>...</td>\n",
       "    </tr>\n",
       "    <tr>\n",
       "      <th>1553</th>\n",
       "      <td>ImranePROPG#2085215</td>\n",
       "      <td>0</td>\n",
       "      <td>51</td>\n",
       "      <td>0.432203</td>\n",
       "      <td>0</td>\n",
       "      <td>10</td>\n",
       "      <td>0</td>\n",
       "      <td>110</td>\n",
       "      <td>0</td>\n",
       "      <td>71</td>\n",
       "      <td>11</td>\n",
       "      <td>71.0</td>\n",
       "      <td>0</td>\n",
       "      <td>0</td>\n",
       "      <td>0</td>\n",
       "      <td>49935</td>\n",
       "      <td>0.0</td>\n",
       "      <td>0</td>\n",
       "      <td>118</td>\n",
       "    </tr>\n",
       "    <tr>\n",
       "      <th>1554</th>\n",
       "      <td>Miguel_mor#1492856</td>\n",
       "      <td>0</td>\n",
       "      <td>0</td>\n",
       "      <td>0.000000</td>\n",
       "      <td>0</td>\n",
       "      <td>1</td>\n",
       "      <td>0</td>\n",
       "      <td>0</td>\n",
       "      <td>0</td>\n",
       "      <td>0</td>\n",
       "      <td>0</td>\n",
       "      <td>0.0</td>\n",
       "      <td>0</td>\n",
       "      <td>0</td>\n",
       "      <td>0</td>\n",
       "      <td>0</td>\n",
       "      <td>0.0</td>\n",
       "      <td>0</td>\n",
       "      <td>0</td>\n",
       "    </tr>\n",
       "    <tr>\n",
       "      <th>1555</th>\n",
       "      <td>Trianthor#3462590</td>\n",
       "      <td>0</td>\n",
       "      <td>0</td>\n",
       "      <td>0.000000</td>\n",
       "      <td>0</td>\n",
       "      <td>1</td>\n",
       "      <td>0</td>\n",
       "      <td>0</td>\n",
       "      <td>0</td>\n",
       "      <td>0</td>\n",
       "      <td>0</td>\n",
       "      <td>0.0</td>\n",
       "      <td>0</td>\n",
       "      <td>0</td>\n",
       "      <td>0</td>\n",
       "      <td>0</td>\n",
       "      <td>0.0</td>\n",
       "      <td>0</td>\n",
       "      <td>0</td>\n",
       "    </tr>\n",
       "    <tr>\n",
       "      <th>1556</th>\n",
       "      <td>tinytrex594#3976133</td>\n",
       "      <td>0</td>\n",
       "      <td>0</td>\n",
       "      <td>0.000000</td>\n",
       "      <td>0</td>\n",
       "      <td>1</td>\n",
       "      <td>0</td>\n",
       "      <td>0</td>\n",
       "      <td>2</td>\n",
       "      <td>1</td>\n",
       "      <td>0</td>\n",
       "      <td>1.0</td>\n",
       "      <td>0</td>\n",
       "      <td>1</td>\n",
       "      <td>7</td>\n",
       "      <td>0</td>\n",
       "      <td>91.2</td>\n",
       "      <td>9</td>\n",
       "      <td>0</td>\n",
       "    </tr>\n",
       "    <tr>\n",
       "      <th>1557</th>\n",
       "      <td>TomasFJ_05#2711069</td>\n",
       "      <td>1</td>\n",
       "      <td>35</td>\n",
       "      <td>0.686275</td>\n",
       "      <td>3</td>\n",
       "      <td>5</td>\n",
       "      <td>1</td>\n",
       "      <td>110</td>\n",
       "      <td>17</td>\n",
       "      <td>10</td>\n",
       "      <td>6</td>\n",
       "      <td>10.0</td>\n",
       "      <td>1</td>\n",
       "      <td>11</td>\n",
       "      <td>63</td>\n",
       "      <td>17126</td>\n",
       "      <td>39.0</td>\n",
       "      <td>80</td>\n",
       "      <td>51</td>\n",
       "    </tr>\n",
       "  </tbody>\n",
       "</table>\n",
       "<p>1558 rows × 19 columns</p>\n",
       "</div>"
      ],
      "text/plain": [
       "                        name  wins  kills   kdRatio  killstreak  level  \\\n",
       "0            RggRt45#4697369     0      0  0.000000           0      1   \n",
       "1         JohniceRex#9176033     0      0  0.000000           0      1   \n",
       "2     bootybootykill#1892064     0     66  1.031250           0      9   \n",
       "3              JNaCo#5244172     3      2  0.400000           0      1   \n",
       "4      gomezyayo_007#6596687     0      2  0.200000           0      1   \n",
       "...                      ...   ...    ...       ...         ...    ...   \n",
       "1553     ImranePROPG#2085215     0     51  0.432203           0     10   \n",
       "1554      Miguel_mor#1492856     0      0  0.000000           0      1   \n",
       "1555       Trianthor#3462590     0      0  0.000000           0      1   \n",
       "1556     tinytrex594#3976133     0      0  0.000000           0      1   \n",
       "1557      TomasFJ_05#2711069     1     35  0.686275           3      5   \n",
       "\n",
       "      losses  prestige  hits  timePlayed  headshots  averageTime  gamesPlayed  \\\n",
       "0          0         0     0           0          0          0.0            0   \n",
       "1          0       110     0           7          0          7.0            0   \n",
       "2          0       110     0          32         16         32.0            0   \n",
       "3          0         0     0           3          0          3.0            0   \n",
       "4          0       110     0           5          1          5.0            0   \n",
       "...      ...       ...   ...         ...        ...          ...          ...   \n",
       "1553       0       110     0          71         11         71.0            0   \n",
       "1554       0         0     0           0          0          0.0            0   \n",
       "1555       0         0     0           0          0          0.0            0   \n",
       "1556       0         0     2           1          0          1.0            0   \n",
       "1557       1       110    17          10          6         10.0            1   \n",
       "\n",
       "      assists  misses     xp  scorePerMinute  shots  deaths  \n",
       "0           0       0      0             0.0      0       0  \n",
       "1           0       0    700             0.0      0      16  \n",
       "2           1       0  48300             0.0      0      64  \n",
       "3           0       0   1150             0.0      0       5  \n",
       "4           0       0   1000             0.0      0      10  \n",
       "...       ...     ...    ...             ...    ...     ...  \n",
       "1553        0       0  49935             0.0      0     118  \n",
       "1554        0       0      0             0.0      0       0  \n",
       "1555        0       0      0             0.0      0       0  \n",
       "1556        1       7      0            91.2      9       0  \n",
       "1557       11      63  17126            39.0     80      51  \n",
       "\n",
       "[1558 rows x 19 columns]"
      ]
     },
     "execution_count": 4,
     "metadata": {},
     "output_type": "execute_result"
    }
   ],
   "source": [
    "path = \"https://raw.githubusercontent.com/Elizraa/DataTugas/main/ML/cod.csv?token=ANSQPSPUP7AZM4ENADMVZ7DBHGS4Y\"\n",
    "df = pd.read_csv(path)\n",
    "df"
   ]
  },
  {
   "cell_type": "code",
   "execution_count": 5,
   "id": "319d8829-3b4d-418b-a7df-24ebc44b2717",
   "metadata": {},
   "outputs": [
    {
     "data": {
      "text/plain": [
       "44.41463414634146"
      ]
     },
     "execution_count": 5,
     "metadata": {},
     "output_type": "execute_result"
    }
   ],
   "source": [
    "meanLevel = df['level'].mean()\n",
    "meanLevel"
   ]
  },
  {
   "cell_type": "code",
   "execution_count": 6,
   "id": "dd82d418-aa4d-41a1-8665-80082bb047e7",
   "metadata": {},
   "outputs": [
    {
     "data": {
      "text/plain": [
       "11.0"
      ]
     },
     "execution_count": 6,
     "metadata": {},
     "output_type": "execute_result"
    }
   ],
   "source": [
    "medianLevel = df['level'].median()\n",
    "medianLevel"
   ]
  },
  {
   "cell_type": "code",
   "execution_count": 7,
   "id": "02c674a0-e47d-4dd0-8eac-f1341c7fb520",
   "metadata": {},
   "outputs": [
    {
     "data": {
      "text/plain": [
       "0    1\n",
       "dtype: int64"
      ]
     },
     "execution_count": 7,
     "metadata": {},
     "output_type": "execute_result"
    }
   ],
   "source": [
    "modusLevel = df['level'].mode()\n",
    "modusLevel"
   ]
  },
  {
   "cell_type": "code",
   "execution_count": 8,
   "id": "2ff95597-a7f9-4958-94ef-d280c65ac367",
   "metadata": {},
   "outputs": [
    {
     "data": {
      "text/plain": [
       "4667.357833231512"
      ]
     },
     "execution_count": 8,
     "metadata": {},
     "output_type": "execute_result"
    }
   ],
   "source": [
    "varianLevel = df['level'].var()\n",
    "varianLevel"
   ]
  },
  {
   "cell_type": "code",
   "execution_count": 9,
   "id": "2ec9659b-f3da-4dde-a6de-b27d39861666",
   "metadata": {},
   "outputs": [
    {
     "data": {
      "text/plain": [
       "68.31806374035722"
      ]
     },
     "execution_count": 9,
     "metadata": {},
     "output_type": "execute_result"
    }
   ],
   "source": [
    "stdLevel = df['level'].std()\n",
    "stdLevel"
   ]
  },
  {
   "cell_type": "code",
   "execution_count": 8,
   "id": "5680fbfe-5e7b-4904-8417-463fcd2c3da4",
   "metadata": {},
   "outputs": [
    {
     "data": {
      "image/png": "[encoded data removed]",
      "text/plain": [
       "<Figure size 1080x720 with 1 Axes>"
      ]
     },
     "metadata": {
      "needs_background": "light"
     },
     "output_type": "display_data"
    }
   ],
   "source": [
    "plt.figure(figsize=(15,10))\n",
    "plt.title('Distribution of kdRatio of Players')\n",
    "plt.xlabel('KdRatio')\n",
    "plt.ylabel('Frequency')\n",
    "plot = sns.histplot(data= df, x='kdRatio')"
   ]
  },
  {
   "cell_type": "code",
   "execution_count": 9,
   "id": "59b32c2a-6654-47ff-bbaa-84985fff400c",
   "metadata": {},
   "outputs": [
    {
     "data": {
      "image/png": "[encoded data removed]",
      "text/plain": [
       "<Figure size 1080x720 with 1 Axes>"
      ]
     },
     "metadata": {
      "needs_background": "light"
     },
     "output_type": "display_data"
    }
   ],
   "source": [
    "plt.figure(figsize=(15,10))\n",
    "plt.title('Distribution of scorePerMinute of Players')\n",
    "plt.xlabel('scorePerMinute')\n",
    "plt.ylabel('Frequency')\n",
    "plot = sns.histplot(data= df, x='scorePerMinute')"
   ]
  },
  {
   "cell_type": "code",
   "execution_count": 10,
   "id": "5fc126a2-6918-4887-9746-3f35df916753",
   "metadata": {},
   "outputs": [
    {
     "data": {
      "text/html": [
       "<div>\n",
       "<style scoped>\n",
       "    .dataframe tbody tr th:only-of-type {\n",
       "        vertical-align: middle;\n",
       "    }\n",
       "\n",
       "    .dataframe tbody tr th {\n",
       "        vertical-align: top;\n",
       "    }\n",
       "\n",
       "    .dataframe thead th {\n",
       "        text-align: right;\n",
       "    }\n",
       "</style>\n",
       "<table border=\"1\" class=\"dataframe\">\n",
       "  <thead>\n",
       "    <tr style=\"text-align: right;\">\n",
       "      <th></th>\n",
       "      <th>wins</th>\n",
       "      <th>kills</th>\n",
       "      <th>kdRatio</th>\n",
       "      <th>killstreak</th>\n",
       "      <th>level</th>\n",
       "      <th>losses</th>\n",
       "      <th>prestige</th>\n",
       "      <th>hits</th>\n",
       "      <th>timePlayed</th>\n",
       "      <th>headshots</th>\n",
       "      <th>averageTime</th>\n",
       "      <th>gamesPlayed</th>\n",
       "      <th>assists</th>\n",
       "      <th>misses</th>\n",
       "      <th>xp</th>\n",
       "      <th>scorePerMinute</th>\n",
       "      <th>shots</th>\n",
       "      <th>deaths</th>\n",
       "    </tr>\n",
       "  </thead>\n",
       "  <tbody>\n",
       "    <tr>\n",
       "      <th>wins</th>\n",
       "      <td>1.000000</td>\n",
       "      <td>0.900201</td>\n",
       "      <td>0.386612</td>\n",
       "      <td>0.496721</td>\n",
       "      <td>0.845055</td>\n",
       "      <td>0.632532</td>\n",
       "      <td>0.392511</td>\n",
       "      <td>0.853138</td>\n",
       "      <td>0.934991</td>\n",
       "      <td>0.867875</td>\n",
       "      <td>-0.071429</td>\n",
       "      <td>0.931809</td>\n",
       "      <td>0.842728</td>\n",
       "      <td>0.879621</td>\n",
       "      <td>0.829105</td>\n",
       "      <td>0.340977</td>\n",
       "      <td>0.878899</td>\n",
       "      <td>0.912530</td>\n",
       "    </tr>\n",
       "    <tr>\n",
       "      <th>kills</th>\n",
       "      <td>0.900201</td>\n",
       "      <td>1.000000</td>\n",
       "      <td>0.406106</td>\n",
       "      <td>0.504433</td>\n",
       "      <td>0.875606</td>\n",
       "      <td>0.623952</td>\n",
       "      <td>0.371014</td>\n",
       "      <td>0.956512</td>\n",
       "      <td>0.881143</td>\n",
       "      <td>0.976575</td>\n",
       "      <td>-0.073888</td>\n",
       "      <td>0.920272</td>\n",
       "      <td>0.958100</td>\n",
       "      <td>0.947597</td>\n",
       "      <td>0.875062</td>\n",
       "      <td>0.353855</td>\n",
       "      <td>0.953966</td>\n",
       "      <td>0.983574</td>\n",
       "    </tr>\n",
       "    <tr>\n",
       "      <th>kdRatio</th>\n",
       "      <td>0.386612</td>\n",
       "      <td>0.406106</td>\n",
       "      <td>1.000000</td>\n",
       "      <td>0.504753</td>\n",
       "      <td>0.513195</td>\n",
       "      <td>0.512484</td>\n",
       "      <td>0.389929</td>\n",
       "      <td>0.380265</td>\n",
       "      <td>0.413756</td>\n",
       "      <td>0.419661</td>\n",
       "      <td>0.072248</td>\n",
       "      <td>0.361056</td>\n",
       "      <td>0.367282</td>\n",
       "      <td>0.369224</td>\n",
       "      <td>0.426856</td>\n",
       "      <td>0.451102</td>\n",
       "      <td>0.373149</td>\n",
       "      <td>0.373437</td>\n",
       "    </tr>\n",
       "    <tr>\n",
       "      <th>killstreak</th>\n",
       "      <td>0.496721</td>\n",
       "      <td>0.504433</td>\n",
       "      <td>0.504753</td>\n",
       "      <td>1.000000</td>\n",
       "      <td>0.534950</td>\n",
       "      <td>0.569522</td>\n",
       "      <td>0.294850</td>\n",
       "      <td>0.482832</td>\n",
       "      <td>0.486061</td>\n",
       "      <td>0.513845</td>\n",
       "      <td>-0.092810</td>\n",
       "      <td>0.472495</td>\n",
       "      <td>0.469738</td>\n",
       "      <td>0.477543</td>\n",
       "      <td>0.458867</td>\n",
       "      <td>0.451865</td>\n",
       "      <td>0.480904</td>\n",
       "      <td>0.490072</td>\n",
       "    </tr>\n",
       "    <tr>\n",
       "      <th>level</th>\n",
       "      <td>0.845055</td>\n",
       "      <td>0.875606</td>\n",
       "      <td>0.513195</td>\n",
       "      <td>0.534950</td>\n",
       "      <td>1.000000</td>\n",
       "      <td>0.665629</td>\n",
       "      <td>0.512850</td>\n",
       "      <td>0.797220</td>\n",
       "      <td>0.938933</td>\n",
       "      <td>0.880610</td>\n",
       "      <td>0.059675</td>\n",
       "      <td>0.774408</td>\n",
       "      <td>0.817353</td>\n",
       "      <td>0.803272</td>\n",
       "      <td>0.969955</td>\n",
       "      <td>0.263510</td>\n",
       "      <td>0.806073</td>\n",
       "      <td>0.861555</td>\n",
       "    </tr>\n",
       "    <tr>\n",
       "      <th>losses</th>\n",
       "      <td>0.632532</td>\n",
       "      <td>0.623952</td>\n",
       "      <td>0.512484</td>\n",
       "      <td>0.569522</td>\n",
       "      <td>0.665629</td>\n",
       "      <td>1.000000</td>\n",
       "      <td>0.358865</td>\n",
       "      <td>0.599764</td>\n",
       "      <td>0.634742</td>\n",
       "      <td>0.627122</td>\n",
       "      <td>-0.076287</td>\n",
       "      <td>0.657998</td>\n",
       "      <td>0.603573</td>\n",
       "      <td>0.600885</td>\n",
       "      <td>0.588177</td>\n",
       "      <td>0.493834</td>\n",
       "      <td>0.603631</td>\n",
       "      <td>0.621198</td>\n",
       "    </tr>\n",
       "    <tr>\n",
       "      <th>prestige</th>\n",
       "      <td>0.392511</td>\n",
       "      <td>0.371014</td>\n",
       "      <td>0.389929</td>\n",
       "      <td>0.294850</td>\n",
       "      <td>0.512850</td>\n",
       "      <td>0.358865</td>\n",
       "      <td>1.000000</td>\n",
       "      <td>0.327667</td>\n",
       "      <td>0.473250</td>\n",
       "      <td>0.374914</td>\n",
       "      <td>0.207348</td>\n",
       "      <td>0.336447</td>\n",
       "      <td>0.344325</td>\n",
       "      <td>0.336664</td>\n",
       "      <td>0.442993</td>\n",
       "      <td>0.013098</td>\n",
       "      <td>0.336605</td>\n",
       "      <td>0.376481</td>\n",
       "    </tr>\n",
       "    <tr>\n",
       "      <th>hits</th>\n",
       "      <td>0.853138</td>\n",
       "      <td>0.956512</td>\n",
       "      <td>0.380265</td>\n",
       "      <td>0.482832</td>\n",
       "      <td>0.797220</td>\n",
       "      <td>0.599764</td>\n",
       "      <td>0.327667</td>\n",
       "      <td>1.000000</td>\n",
       "      <td>0.812103</td>\n",
       "      <td>0.937531</td>\n",
       "      <td>-0.097044</td>\n",
       "      <td>0.900000</td>\n",
       "      <td>0.973379</td>\n",
       "      <td>0.968216</td>\n",
       "      <td>0.789628</td>\n",
       "      <td>0.381123</td>\n",
       "      <td>0.979051</td>\n",
       "      <td>0.945092</td>\n",
       "    </tr>\n",
       "    <tr>\n",
       "      <th>timePlayed</th>\n",
       "      <td>0.934991</td>\n",
       "      <td>0.881143</td>\n",
       "      <td>0.413756</td>\n",
       "      <td>0.486061</td>\n",
       "      <td>0.938933</td>\n",
       "      <td>0.634742</td>\n",
       "      <td>0.473250</td>\n",
       "      <td>0.812103</td>\n",
       "      <td>1.000000</td>\n",
       "      <td>0.865555</td>\n",
       "      <td>0.029985</td>\n",
       "      <td>0.869010</td>\n",
       "      <td>0.821605</td>\n",
       "      <td>0.836810</td>\n",
       "      <td>0.932366</td>\n",
       "      <td>0.245996</td>\n",
       "      <td>0.836215</td>\n",
       "      <td>0.889276</td>\n",
       "    </tr>\n",
       "    <tr>\n",
       "      <th>headshots</th>\n",
       "      <td>0.867875</td>\n",
       "      <td>0.976575</td>\n",
       "      <td>0.419661</td>\n",
       "      <td>0.513845</td>\n",
       "      <td>0.880610</td>\n",
       "      <td>0.627122</td>\n",
       "      <td>0.374914</td>\n",
       "      <td>0.937531</td>\n",
       "      <td>0.865555</td>\n",
       "      <td>1.000000</td>\n",
       "      <td>-0.068719</td>\n",
       "      <td>0.878931</td>\n",
       "      <td>0.938885</td>\n",
       "      <td>0.915486</td>\n",
       "      <td>0.876730</td>\n",
       "      <td>0.343639</td>\n",
       "      <td>0.924202</td>\n",
       "      <td>0.955821</td>\n",
       "    </tr>\n",
       "    <tr>\n",
       "      <th>averageTime</th>\n",
       "      <td>-0.071429</td>\n",
       "      <td>-0.073888</td>\n",
       "      <td>0.072248</td>\n",
       "      <td>-0.092810</td>\n",
       "      <td>0.059675</td>\n",
       "      <td>-0.076287</td>\n",
       "      <td>0.207348</td>\n",
       "      <td>-0.097044</td>\n",
       "      <td>0.029985</td>\n",
       "      <td>-0.068719</td>\n",
       "      <td>1.000000</td>\n",
       "      <td>-0.098652</td>\n",
       "      <td>-0.078736</td>\n",
       "      <td>-0.099306</td>\n",
       "      <td>0.018214</td>\n",
       "      <td>-0.200985</td>\n",
       "      <td>-0.099363</td>\n",
       "      <td>-0.071386</td>\n",
       "    </tr>\n",
       "    <tr>\n",
       "      <th>gamesPlayed</th>\n",
       "      <td>0.931809</td>\n",
       "      <td>0.920272</td>\n",
       "      <td>0.361056</td>\n",
       "      <td>0.472495</td>\n",
       "      <td>0.774408</td>\n",
       "      <td>0.657998</td>\n",
       "      <td>0.336447</td>\n",
       "      <td>0.900000</td>\n",
       "      <td>0.869010</td>\n",
       "      <td>0.878931</td>\n",
       "      <td>-0.098652</td>\n",
       "      <td>1.000000</td>\n",
       "      <td>0.889257</td>\n",
       "      <td>0.920006</td>\n",
       "      <td>0.756567</td>\n",
       "      <td>0.395845</td>\n",
       "      <td>0.920720</td>\n",
       "      <td>0.930178</td>\n",
       "    </tr>\n",
       "    <tr>\n",
       "      <th>assists</th>\n",
       "      <td>0.842728</td>\n",
       "      <td>0.958100</td>\n",
       "      <td>0.367282</td>\n",
       "      <td>0.469738</td>\n",
       "      <td>0.817353</td>\n",
       "      <td>0.603573</td>\n",
       "      <td>0.344325</td>\n",
       "      <td>0.973379</td>\n",
       "      <td>0.821605</td>\n",
       "      <td>0.938885</td>\n",
       "      <td>-0.078736</td>\n",
       "      <td>0.889257</td>\n",
       "      <td>1.000000</td>\n",
       "      <td>0.952855</td>\n",
       "      <td>0.813556</td>\n",
       "      <td>0.352456</td>\n",
       "      <td>0.961465</td>\n",
       "      <td>0.954325</td>\n",
       "    </tr>\n",
       "    <tr>\n",
       "      <th>misses</th>\n",
       "      <td>0.879621</td>\n",
       "      <td>0.947597</td>\n",
       "      <td>0.369224</td>\n",
       "      <td>0.477543</td>\n",
       "      <td>0.803272</td>\n",
       "      <td>0.600885</td>\n",
       "      <td>0.336664</td>\n",
       "      <td>0.968216</td>\n",
       "      <td>0.836810</td>\n",
       "      <td>0.915486</td>\n",
       "      <td>-0.099306</td>\n",
       "      <td>0.920006</td>\n",
       "      <td>0.952855</td>\n",
       "      <td>1.000000</td>\n",
       "      <td>0.789731</td>\n",
       "      <td>0.392171</td>\n",
       "      <td>0.998860</td>\n",
       "      <td>0.953241</td>\n",
       "    </tr>\n",
       "    <tr>\n",
       "      <th>xp</th>\n",
       "      <td>0.829105</td>\n",
       "      <td>0.875062</td>\n",
       "      <td>0.426856</td>\n",
       "      <td>0.458867</td>\n",
       "      <td>0.969955</td>\n",
       "      <td>0.588177</td>\n",
       "      <td>0.442993</td>\n",
       "      <td>0.789628</td>\n",
       "      <td>0.932366</td>\n",
       "      <td>0.876730</td>\n",
       "      <td>0.018214</td>\n",
       "      <td>0.756567</td>\n",
       "      <td>0.813556</td>\n",
       "      <td>0.789731</td>\n",
       "      <td>1.000000</td>\n",
       "      <td>0.194255</td>\n",
       "      <td>0.793600</td>\n",
       "      <td>0.852277</td>\n",
       "    </tr>\n",
       "    <tr>\n",
       "      <th>scorePerMinute</th>\n",
       "      <td>0.340977</td>\n",
       "      <td>0.353855</td>\n",
       "      <td>0.451102</td>\n",
       "      <td>0.451865</td>\n",
       "      <td>0.263510</td>\n",
       "      <td>0.493834</td>\n",
       "      <td>0.013098</td>\n",
       "      <td>0.381123</td>\n",
       "      <td>0.245996</td>\n",
       "      <td>0.343639</td>\n",
       "      <td>-0.200985</td>\n",
       "      <td>0.395845</td>\n",
       "      <td>0.352456</td>\n",
       "      <td>0.392171</td>\n",
       "      <td>0.194255</td>\n",
       "      <td>1.000000</td>\n",
       "      <td>0.391995</td>\n",
       "      <td>0.365725</td>\n",
       "    </tr>\n",
       "    <tr>\n",
       "      <th>shots</th>\n",
       "      <td>0.878899</td>\n",
       "      <td>0.953966</td>\n",
       "      <td>0.373149</td>\n",
       "      <td>0.480904</td>\n",
       "      <td>0.806073</td>\n",
       "      <td>0.603631</td>\n",
       "      <td>0.336605</td>\n",
       "      <td>0.979051</td>\n",
       "      <td>0.836215</td>\n",
       "      <td>0.924202</td>\n",
       "      <td>-0.099363</td>\n",
       "      <td>0.920720</td>\n",
       "      <td>0.961465</td>\n",
       "      <td>0.998860</td>\n",
       "      <td>0.793600</td>\n",
       "      <td>0.391995</td>\n",
       "      <td>1.000000</td>\n",
       "      <td>0.956380</td>\n",
       "    </tr>\n",
       "    <tr>\n",
       "      <th>deaths</th>\n",
       "      <td>0.912530</td>\n",
       "      <td>0.983574</td>\n",
       "      <td>0.373437</td>\n",
       "      <td>0.490072</td>\n",
       "      <td>0.861555</td>\n",
       "      <td>0.621198</td>\n",
       "      <td>0.376481</td>\n",
       "      <td>0.945092</td>\n",
       "      <td>0.889276</td>\n",
       "      <td>0.955821</td>\n",
       "      <td>-0.071386</td>\n",
       "      <td>0.930178</td>\n",
       "      <td>0.954325</td>\n",
       "      <td>0.953241</td>\n",
       "      <td>0.852277</td>\n",
       "      <td>0.365725</td>\n",
       "      <td>0.956380</td>\n",
       "      <td>1.000000</td>\n",
       "    </tr>\n",
       "  </tbody>\n",
       "</table>\n",
       "</div>"
      ],
      "text/plain": [
       "                    wins     kills   kdRatio  killstreak     level    losses  \\\n",
       "wins            1.000000  0.900201  0.386612    0.496721  0.845055  0.632532   \n",
       "kills           0.900201  1.000000  0.406106    0.504433  0.875606  0.623952   \n",
       "kdRatio         0.386612  0.406106  1.000000    0.504753  0.513195  0.512484   \n",
       "killstreak      0.496721  0.504433  0.504753    1.000000  0.534950  0.569522   \n",
       "level           0.845055  0.875606  0.513195    0.534950  1.000000  0.665629   \n",
       "losses          0.632532  0.623952  0.512484    0.569522  0.665629  1.000000   \n",
       "prestige        0.392511  0.371014  0.389929    0.294850  0.512850  0.358865   \n",
       "hits            0.853138  0.956512  0.380265    0.482832  0.797220  0.599764   \n",
       "timePlayed      0.934991  0.881143  0.413756    0.486061  0.938933  0.634742   \n",
       "headshots       0.867875  0.976575  0.419661    0.513845  0.880610  0.627122   \n",
       "averageTime    -0.071429 -0.073888  0.072248   -0.092810  0.059675 -0.076287   \n",
       "gamesPlayed     0.931809  0.920272  0.361056    0.472495  0.774408  0.657998   \n",
       "assists         0.842728  0.958100  0.367282    0.469738  0.817353  0.603573   \n",
       "misses          0.879621  0.947597  0.369224    0.477543  0.803272  0.600885   \n",
       "xp              0.829105  0.875062  0.426856    0.458867  0.969955  0.588177   \n",
       "scorePerMinute  0.340977  0.353855  0.451102    0.451865  0.263510  0.493834   \n",
       "shots           0.878899  0.953966  0.373149    0.480904  0.806073  0.603631   \n",
       "deaths          0.912530  0.983574  0.373437    0.490072  0.861555  0.621198   \n",
       "\n",
       "                prestige      hits  timePlayed  headshots  averageTime  \\\n",
       "wins            0.392511  0.853138    0.934991   0.867875    -0.071429   \n",
       "kills           0.371014  0.956512    0.881143   0.976575    -0.073888   \n",
       "kdRatio         0.389929  0.380265    0.413756   0.419661     0.072248   \n",
       "killstreak      0.294850  0.482832    0.486061   0.513845    -0.092810   \n",
       "level           0.512850  0.797220    0.938933   0.880610     0.059675   \n",
       "losses          0.358865  0.599764    0.634742   0.627122    -0.076287   \n",
       "prestige        1.000000  0.327667    0.473250   0.374914     0.207348   \n",
       "hits            0.327667  1.000000    0.812103   0.937531    -0.097044   \n",
       "timePlayed      0.473250  0.812103    1.000000   0.865555     0.029985   \n",
       "headshots       0.374914  0.937531    0.865555   1.000000    -0.068719   \n",
       "averageTime     0.207348 -0.097044    0.029985  -0.068719     1.000000   \n",
       "gamesPlayed     0.336447  0.900000    0.869010   0.878931    -0.098652   \n",
       "assists         0.344325  0.973379    0.821605   0.938885    -0.078736   \n",
       "misses          0.336664  0.968216    0.836810   0.915486    -0.099306   \n",
       "xp              0.442993  0.789628    0.932366   0.876730     0.018214   \n",
       "scorePerMinute  0.013098  0.381123    0.245996   0.343639    -0.200985   \n",
       "shots           0.336605  0.979051    0.836215   0.924202    -0.099363   \n",
       "deaths          0.376481  0.945092    0.889276   0.955821    -0.071386   \n",
       "\n",
       "                gamesPlayed   assists    misses        xp  scorePerMinute  \\\n",
       "wins               0.931809  0.842728  0.879621  0.829105        0.340977   \n",
       "kills              0.920272  0.958100  0.947597  0.875062        0.353855   \n",
       "kdRatio            0.361056  0.367282  0.369224  0.426856        0.451102   \n",
       "killstreak         0.472495  0.469738  0.477543  0.458867        0.451865   \n",
       "level              0.774408  0.817353  0.803272  0.969955        0.263510   \n",
       "losses             0.657998  0.603573  0.600885  0.588177        0.493834   \n",
       "prestige           0.336447  0.344325  0.336664  0.442993        0.013098   \n",
       "hits               0.900000  0.973379  0.968216  0.789628        0.381123   \n",
       "timePlayed         0.869010  0.821605  0.836810  0.932366        0.245996   \n",
       "headshots          0.878931  0.938885  0.915486  0.876730        0.343639   \n",
       "averageTime       -0.098652 -0.078736 -0.099306  0.018214       -0.200985   \n",
       "gamesPlayed        1.000000  0.889257  0.920006  0.756567        0.395845   \n",
       "assists            0.889257  1.000000  0.952855  0.813556        0.352456   \n",
       "misses             0.920006  0.952855  1.000000  0.789731        0.392171   \n",
       "xp                 0.756567  0.813556  0.789731  1.000000        0.194255   \n",
       "scorePerMinute     0.395845  0.352456  0.392171  0.194255        1.000000   \n",
       "shots              0.920720  0.961465  0.998860  0.793600        0.391995   \n",
       "deaths             0.930178  0.954325  0.953241  0.852277        0.365725   \n",
       "\n",
       "                   shots    deaths  \n",
       "wins            0.878899  0.912530  \n",
       "kills           0.953966  0.983574  \n",
       "kdRatio         0.373149  0.373437  \n",
       "killstreak      0.480904  0.490072  \n",
       "level           0.806073  0.861555  \n",
       "losses          0.603631  0.621198  \n",
       "prestige        0.336605  0.376481  \n",
       "hits            0.979051  0.945092  \n",
       "timePlayed      0.836215  0.889276  \n",
       "headshots       0.924202  0.955821  \n",
       "averageTime    -0.099363 -0.071386  \n",
       "gamesPlayed     0.920720  0.930178  \n",
       "assists         0.961465  0.954325  \n",
       "misses          0.998860  0.953241  \n",
       "xp              0.793600  0.852277  \n",
       "scorePerMinute  0.391995  0.365725  \n",
       "shots           1.000000  0.956380  \n",
       "deaths          0.956380  1.000000  "
      ]
     },
     "execution_count": 10,
     "metadata": {},
     "output_type": "execute_result"
    }
   ],
   "source": [
    "df.corr(method ='pearson')"
   ]
  },
  {
   "cell_type": "code",
   "execution_count": 11,
   "id": "027dbc32-d7f3-4198-9b46-4bdd0479a59c",
   "metadata": {},
   "outputs": [
    {
     "data": {
      "text/plain": [
       "0.9988601975670466"
      ]
     },
     "execution_count": 11,
     "metadata": {},
     "output_type": "execute_result"
    }
   ],
   "source": [
    "df['shots'].corr(df['misses'])"
   ]
  },
  {
   "cell_type": "code",
   "execution_count": 12,
   "id": "65b55371-69e4-4b02-a263-34465c90237c",
   "metadata": {},
   "outputs": [
    {
     "data": {
      "text/plain": [
       "<AxesSubplot:xlabel='shots'>"
      ]
     },
     "execution_count": 12,
     "metadata": {},
     "output_type": "execute_result"
    },
    {
     "data": {
      "image/png": "[encoded data removed]",
      "text/plain": [
       "<Figure size 432x288 with 1 Axes>"
      ]
     },
     "metadata": {
      "needs_background": "light"
     },
     "output_type": "display_data"
    }
   ],
   "source": [
    "df.plot(x='shots', y='misses')"
   ]
  },
  {
   "cell_type": "code",
   "execution_count": 13,
   "id": "bc7a9460-9add-4345-8e11-488d40e0ee60",
   "metadata": {},
   "outputs": [
    {
     "data": {
      "text/plain": [
       "<AxesSubplot:>"
      ]
     },
     "execution_count": 13,
     "metadata": {},
     "output_type": "execute_result"
    },
    {
     "data": {
      "image/png": "[encoded data removed]",
      "text/plain": [
       "<Figure size 432x288 with 1 Axes>"
      ]
     },
     "metadata": {
      "needs_background": "light"
     },
     "output_type": "display_data"
    }
   ],
   "source": [
    "df['misses'].plot(ax=df['shots'].plot())"
   ]
  },
  {
   "cell_type": "code",
   "execution_count": 14,
   "id": "a883e5e3-986c-4d70-97a7-1968ac6542fa",
   "metadata": {},
   "outputs": [
    {
     "data": {
      "text/plain": [
       "0.9835739536085857"
      ]
     },
     "execution_count": 14,
     "metadata": {},
     "output_type": "execute_result"
    }
   ],
   "source": [
    "df['kills'].corr(df['deaths'])"
   ]
  },
  {
   "cell_type": "code",
   "execution_count": 15,
   "id": "26b3f010-8a7e-414e-bd76-8435099ff107",
   "metadata": {},
   "outputs": [
    {
     "data": {
      "text/plain": [
       "<AxesSubplot:xlabel='kills'>"
      ]
     },
     "execution_count": 15,
     "metadata": {},
     "output_type": "execute_result"
    },
    {
     "data": {
      "image/png": "[encoded data removed]",
      "text/plain": [
       "<Figure size 432x288 with 1 Axes>"
      ]
     },
     "metadata": {
      "needs_background": "light"
     },
     "output_type": "display_data"
    }
   ],
   "source": [
    "df.plot(x='kills',y = 'deaths')"
   ]
  },
  {
   "cell_type": "code",
   "execution_count": 16,
   "id": "5ccf0439-8c89-4ee3-8e27-f056766875b1",
   "metadata": {},
   "outputs": [
    {
     "data": {
      "text/plain": [
       "<AxesSubplot:xlabel='kills', ylabel='deaths'>"
      ]
     },
     "execution_count": 16,
     "metadata": {},
     "output_type": "execute_result"
    },
    {
     "data": {
      "image/png": "[encoded data removed]",
      "text/plain": [
       "<Figure size 432x288 with 1 Axes>"
      ]
     },
     "metadata": {
      "needs_background": "light"
     },
     "output_type": "display_data"
    }
   ],
   "source": [
    "sns.regplot(x = 'kills', y = 'deaths', data = df)"
   ]
  },
  {
   "cell_type": "code",
   "execution_count": 17,
   "id": "dce08ad7-812c-4ac2-bdab-debd98492f58",
   "metadata": {},
   "outputs": [
    {
     "data": {
      "text/plain": [
       "0.934990912064464"
      ]
     },
     "execution_count": 17,
     "metadata": {},
     "output_type": "execute_result"
    }
   ],
   "source": [
    "df['wins'].corr(df['timePlayed'])"
   ]
  },
  {
   "cell_type": "code",
   "execution_count": 18,
   "id": "5cb7f4d1-d102-4ae9-9a4a-d4514011645f",
   "metadata": {},
   "outputs": [
    {
     "data": {
      "text/plain": [
       "<AxesSubplot:xlabel='wins', ylabel='timePlayed'>"
      ]
     },
     "execution_count": 18,
     "metadata": {},
     "output_type": "execute_result"
    },
    {
     "data": {
      "image/png": "[encoded data removed]",
      "text/plain": [
       "<Figure size 432x288 with 1 Axes>"
      ]
     },
     "metadata": {
      "needs_background": "light"
     },
     "output_type": "display_data"
    }
   ],
   "source": [
    "sns.regplot(x = 'wins', y = 'timePlayed', data = df)"
   ]
  }
 ],
 "metadata": {
  "kernelspec": {
   "display_name": "Python 3 (ipykernel)",
   "language": "python",
   "name": "python3"
  },
  "language_info": {
   "codemirror_mode": {
    "name": "ipython",
    "version": 3
   },
   "file_extension": ".py",
   "mimetype": "text/x-python",
   "name": "python",
   "nbconvert_exporter": "python",
   "pygments_lexer": "ipython3",
   "version": "3.7.4"
  }
 },
 "nbformat": 4,
 "nbformat_minor": 5
}
